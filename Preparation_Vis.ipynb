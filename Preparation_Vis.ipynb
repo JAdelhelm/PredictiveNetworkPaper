{
 "cells": [
  {
   "cell_type": "markdown",
   "metadata": {},
   "source": [
    "# ``Preparation``\n",
    "###### HumidityRatio wurde gemessen an der Temperatur und der relativen Luftfeuchtigkeit"
   ]
  },
  {
   "cell_type": "code",
   "execution_count": 2,
   "metadata": {},
   "outputs": [],
   "source": [
    "import pandas as pd\n",
    "import sklearn\n",
    "import matplotlib.pyplot as plt\n",
    "import numpy as np\n",
    "import seaborn as sns   \n",
    "import datetime\n",
    "df = pd.read_csv(\"Occupancy.csv\")"
   ]
  },
  {
   "cell_type": "code",
   "execution_count": 3,
   "metadata": {},
   "outputs": [
    {
     "name": "stdout",
     "output_type": "stream",
     "text": [
      "[0 1]\n"
     ]
    }
   ],
   "source": [
    "deutscheNamen = (\"Datum\",\"Temperatur\",\"Feuchtigkeit\",\"Licht\",\"CO2\",\"Temperatur/RelativeFeuchtigkeit\",\"Belegt Ja/Nein\")\n",
    "df.columns = deutscheNamen\n",
    "print(np.unique(df[\"Belegt Ja/Nein\"]))\n",
    "# df.head()\n",
    "\n",
    "# Nur Stunden und Minuten\n",
    "# df[\"Datum\"] = pd.to_datetime(df[\"Datum\"]).dt.time"
   ]
  },
  {
   "cell_type": "markdown",
   "metadata": {},
   "source": [
    "#### Korrelationsmatrix"
   ]
  },
  {
   "cell_type": "code",
   "execution_count": 4,
   "metadata": {},
   "outputs": [],
   "source": [
    "# corrMatrix = df.corr()\n",
    "# sns.heatmap(corrMatrix, annot=True)\n",
    "# plt.show()\n",
    "# print(f\"ROWS: {len(df)}\")"
   ]
  },
  {
   "cell_type": "markdown",
   "metadata": {},
   "source": [
    "#### Daten für das Plotten vorbereiten"
   ]
  },
  {
   "cell_type": "markdown",
   "metadata": {},
   "source": [
    "``Mache hier die Vorarbeit für die weiteren Schritte, setze bspw. auch das Zeitintervall``\n",
    "- Ich kann die Daten so aggregieren, dass sie übereinander gelegt werden im Plot?\n",
    "- Das heißt, dass ich alle Zeiten übereinander lappe, aller Tage"
   ]
  },
  {
   "cell_type": "code",
   "execution_count": 5,
   "metadata": {},
   "outputs": [
    {
     "name": "stderr",
     "output_type": "stream",
     "text": [
      "C:\\Users\\Jörg\\AppData\\Local\\Temp\\ipykernel_1580\\3403862666.py:22: SettingWithCopyWarning: \n",
      "A value is trying to be set on a copy of a slice from a DataFrame.\n",
      "Try using .loc[row_indexer,col_indexer] = value instead\n",
      "\n",
      "See the caveats in the documentation: https://pandas.pydata.org/pandas-docs/stable/user_guide/indexing.html#returning-a-view-versus-a-copy\n",
      "  df2[\"ZeitTag\"] = dateInts\n",
      "C:\\Users\\Jörg\\AppData\\Local\\Temp\\ipykernel_1580\\3403862666.py:23: SettingWithCopyWarning: \n",
      "A value is trying to be set on a copy of a slice from a DataFrame.\n",
      "Try using .loc[row_indexer,col_indexer] = value instead\n",
      "\n",
      "See the caveats in the documentation: https://pandas.pydata.org/pandas-docs/stable/user_guide/indexing.html#returning-a-view-versus-a-copy\n",
      "  df2[\"ZeitTag\"] = pd.to_datetime(df2[\"ZeitTag\"])\n",
      "C:\\Users\\Jörg\\AppData\\Local\\Temp\\ipykernel_1580\\3403862666.py:26: FutureWarning: In a future version of pandas all arguments of DataFrame.drop except for the argument 'labels' will be keyword-only.\n",
      "  df2 = df2.drop(\"Datum\", 1)\n"
     ]
    }
   ],
   "source": [
    "import seaborn as sns\n",
    "\n",
    "# Analyse vom 02-02 bis 02-18 (16 Tage)\n",
    "\n",
    "sns.set_theme(style=\"darkgrid\")\n",
    "\n",
    "# 8 Februar Sonntag\n",
    "# 15 Februar\n",
    "# Nur Zwei Sonntage enthalten\n",
    "df2 = df.loc[(df['Datum'] >= '2015-02-08 07:00:00') & (df['Datum'] <= '2015-02-08 18:00:00')]\n",
    "\n",
    "# Nur Stunden und Minuten\n",
    "# df2[\"Datum\"] = pd.to_datetime(df2[\"Datum\"]).dt.time\n",
    "# df2[\"Datum\"] =  df2['Datum'].values.dt.total_seconds().div(60).astype(int)\n",
    "dateInts = []\n",
    "for i in df2[\"Datum\"].values:\n",
    "    # Konvertiert datetime.time zu einem String\n",
    "    # print(type(i))\n",
    "    dateInts.append(i)\n",
    "    # dateInts.append(i.strftime(\"%Y-%m-%d %H:%M:%S\"))\n",
    "\n",
    "df2[\"ZeitTag\"] = dateInts\n",
    "df2[\"ZeitTag\"] = pd.to_datetime(df2[\"ZeitTag\"])\n",
    "\n",
    "\n",
    "df2 = df2.drop(\"Datum\", 1)\n",
    "# df2"
   ]
  },
  {
   "cell_type": "markdown",
   "metadata": {},
   "source": [
    "## Extrahieren der Testdaten\n",
    "- Sonntage: 02-08 und 02-015\n",
    "- Dienstage: 02-03 und 02-10"
   ]
  },
  {
   "cell_type": "markdown",
   "metadata": {},
   "source": [
    "### Sonntage"
   ]
  },
  {
   "cell_type": "code",
   "execution_count": 6,
   "metadata": {},
   "outputs": [],
   "source": [
    "daysSon = 8\n",
    "for val in range(0,2):\n",
    "    if len(str(daysSon)) <= 1:\n",
    "        df_son = df.loc[(df['Datum'] > f'2015-02-0{str(daysSon)} 00:00:00') & (df['Datum'] <= f'2015-02-0{str(daysSon)} 23:59:00')]\n",
    "    else: \n",
    "        df_temp=(df.loc[(df['Datum'] > f'2015-02-{str(daysSon)} 00:00:00') & (df['Datum'] <= f'2015-02-{str(daysSon)} 23:59:00')])\n",
    "        df_son = pd.concat([df_son, df_temp])\n",
    "    daysSon += 7\n",
    "# df_son"
   ]
  },
  {
   "cell_type": "code",
   "execution_count": 7,
   "metadata": {},
   "outputs": [],
   "source": [
    "# corrMatrix = df_son.corr()\n",
    "# sns.heatmap(corrMatrix, annot=True)\n",
    "# plt.show()"
   ]
  },
  {
   "cell_type": "markdown",
   "metadata": {},
   "source": [
    "### Ein Dienstag zum Vergleich"
   ]
  },
  {
   "cell_type": "code",
   "execution_count": 8,
   "metadata": {},
   "outputs": [],
   "source": [
    "daysDi = 3\n",
    "for val in range(0,1):\n",
    "    if len(str(daysDi)) <= 1:\n",
    "        df_di = df.loc[(df['Datum'] > f'2015-02-0{str(daysDi)} 00:00:00') & (df['Datum'] <= f'2015-02-0{str(daysDi)} 23:59:00')]\n",
    "    else: \n",
    "        df_temp=(df.loc[(df['Datum'] > f'2015-02-{str(daysDi)} 00:00:00') & (df['Datum'] <= f'2015-02-{str(daysDi)} 23:59:00')])\n",
    "        df_di = pd.concat([df_di, df_temp])\n",
    "    daysDi += 10\n",
    "# df_di"
   ]
  },
  {
   "cell_type": "markdown",
   "metadata": {},
   "source": [
    "# Zusammenbringen der Testdaten"
   ]
  },
  {
   "cell_type": "code",
   "execution_count": 9,
   "metadata": {},
   "outputs": [
    {
     "data": {
      "text/html": [
       "<div>\n",
       "<style scoped>\n",
       "    .dataframe tbody tr th:only-of-type {\n",
       "        vertical-align: middle;\n",
       "    }\n",
       "\n",
       "    .dataframe tbody tr th {\n",
       "        vertical-align: top;\n",
       "    }\n",
       "\n",
       "    .dataframe thead th {\n",
       "        text-align: right;\n",
       "    }\n",
       "</style>\n",
       "<table border=\"1\" class=\"dataframe\">\n",
       "  <thead>\n",
       "    <tr style=\"text-align: right;\">\n",
       "      <th></th>\n",
       "      <th>Datum</th>\n",
       "      <th>Temperatur</th>\n",
       "      <th>Feuchtigkeit</th>\n",
       "      <th>Licht</th>\n",
       "      <th>CO2</th>\n",
       "      <th>Temperatur/RelativeFeuchtigkeit</th>\n",
       "      <th>Belegt Ja/Nein</th>\n",
       "    </tr>\n",
       "  </thead>\n",
       "  <tbody>\n",
       "    <tr>\n",
       "      <th>582</th>\n",
       "      <td>2015-02-03 00:01:00</td>\n",
       "      <td>20.600000</td>\n",
       "      <td>22.200000</td>\n",
       "      <td>0.0</td>\n",
       "      <td>455.250000</td>\n",
       "      <td>0.003325</td>\n",
       "      <td>0</td>\n",
       "    </tr>\n",
       "    <tr>\n",
       "      <th>583</th>\n",
       "      <td>2015-02-03 00:02:00</td>\n",
       "      <td>20.600000</td>\n",
       "      <td>22.200000</td>\n",
       "      <td>0.0</td>\n",
       "      <td>455.250000</td>\n",
       "      <td>0.003325</td>\n",
       "      <td>0</td>\n",
       "    </tr>\n",
       "    <tr>\n",
       "      <th>584</th>\n",
       "      <td>2015-02-03 00:03:00</td>\n",
       "      <td>20.633333</td>\n",
       "      <td>22.230000</td>\n",
       "      <td>0.0</td>\n",
       "      <td>451.666667</td>\n",
       "      <td>0.003337</td>\n",
       "      <td>0</td>\n",
       "    </tr>\n",
       "    <tr>\n",
       "      <th>585</th>\n",
       "      <td>2015-02-03 00:04:00</td>\n",
       "      <td>20.600000</td>\n",
       "      <td>22.200000</td>\n",
       "      <td>0.0</td>\n",
       "      <td>451.000000</td>\n",
       "      <td>0.003325</td>\n",
       "      <td>0</td>\n",
       "    </tr>\n",
       "    <tr>\n",
       "      <th>586</th>\n",
       "      <td>2015-02-03 00:04:59</td>\n",
       "      <td>20.600000</td>\n",
       "      <td>22.200000</td>\n",
       "      <td>0.0</td>\n",
       "      <td>448.750000</td>\n",
       "      <td>0.003325</td>\n",
       "      <td>0</td>\n",
       "    </tr>\n",
       "    <tr>\n",
       "      <th>...</th>\n",
       "      <td>...</td>\n",
       "      <td>...</td>\n",
       "      <td>...</td>\n",
       "      <td>...</td>\n",
       "      <td>...</td>\n",
       "      <td>...</td>\n",
       "      <td>...</td>\n",
       "    </tr>\n",
       "    <tr>\n",
       "      <th>17115</th>\n",
       "      <td>2015-02-15 23:55:00</td>\n",
       "      <td>20.200000</td>\n",
       "      <td>29.600000</td>\n",
       "      <td>0.0</td>\n",
       "      <td>728.000000</td>\n",
       "      <td>0.004332</td>\n",
       "      <td>0</td>\n",
       "    </tr>\n",
       "    <tr>\n",
       "      <th>17116</th>\n",
       "      <td>2015-02-15 23:55:59</td>\n",
       "      <td>20.290000</td>\n",
       "      <td>29.600000</td>\n",
       "      <td>0.0</td>\n",
       "      <td>730.500000</td>\n",
       "      <td>0.004357</td>\n",
       "      <td>0</td>\n",
       "    </tr>\n",
       "    <tr>\n",
       "      <th>17117</th>\n",
       "      <td>2015-02-15 23:57:00</td>\n",
       "      <td>20.200000</td>\n",
       "      <td>29.500000</td>\n",
       "      <td>0.0</td>\n",
       "      <td>738.000000</td>\n",
       "      <td>0.004318</td>\n",
       "      <td>0</td>\n",
       "    </tr>\n",
       "    <tr>\n",
       "      <th>17118</th>\n",
       "      <td>2015-02-15 23:57:59</td>\n",
       "      <td>20.200000</td>\n",
       "      <td>29.463333</td>\n",
       "      <td>0.0</td>\n",
       "      <td>739.000000</td>\n",
       "      <td>0.004312</td>\n",
       "      <td>0</td>\n",
       "    </tr>\n",
       "    <tr>\n",
       "      <th>17119</th>\n",
       "      <td>2015-02-15 23:58:59</td>\n",
       "      <td>20.290000</td>\n",
       "      <td>29.500000</td>\n",
       "      <td>0.0</td>\n",
       "      <td>738.000000</td>\n",
       "      <td>0.004342</td>\n",
       "      <td>0</td>\n",
       "    </tr>\n",
       "  </tbody>\n",
       "</table>\n",
       "<p>4317 rows × 7 columns</p>\n",
       "</div>"
      ],
      "text/plain": [
       "                     Datum  Temperatur  Feuchtigkeit  Licht         CO2  \\\n",
       "582    2015-02-03 00:01:00   20.600000     22.200000    0.0  455.250000   \n",
       "583    2015-02-03 00:02:00   20.600000     22.200000    0.0  455.250000   \n",
       "584    2015-02-03 00:03:00   20.633333     22.230000    0.0  451.666667   \n",
       "585    2015-02-03 00:04:00   20.600000     22.200000    0.0  451.000000   \n",
       "586    2015-02-03 00:04:59   20.600000     22.200000    0.0  448.750000   \n",
       "...                    ...         ...           ...    ...         ...   \n",
       "17115  2015-02-15 23:55:00   20.200000     29.600000    0.0  728.000000   \n",
       "17116  2015-02-15 23:55:59   20.290000     29.600000    0.0  730.500000   \n",
       "17117  2015-02-15 23:57:00   20.200000     29.500000    0.0  738.000000   \n",
       "17118  2015-02-15 23:57:59   20.200000     29.463333    0.0  739.000000   \n",
       "17119  2015-02-15 23:58:59   20.290000     29.500000    0.0  738.000000   \n",
       "\n",
       "       Temperatur/RelativeFeuchtigkeit  Belegt Ja/Nein  \n",
       "582                           0.003325               0  \n",
       "583                           0.003325               0  \n",
       "584                           0.003337               0  \n",
       "585                           0.003325               0  \n",
       "586                           0.003325               0  \n",
       "...                                ...             ...  \n",
       "17115                         0.004332               0  \n",
       "17116                         0.004357               0  \n",
       "17117                         0.004318               0  \n",
       "17118                         0.004312               0  \n",
       "17119                         0.004342               0  \n",
       "\n",
       "[4317 rows x 7 columns]"
      ]
     },
     "execution_count": 9,
     "metadata": {},
     "output_type": "execute_result"
    }
   ],
   "source": [
    "# df_son und df_di\n",
    "df_test = pd.concat([df_son, df_di])\n",
    "df_test = df_test.sort_index(ascending=True)\n",
    "df_test"
   ]
  },
  {
   "cell_type": "markdown",
   "metadata": {},
   "source": [
    "# Erzeugen der Trainingsdaten"
   ]
  },
  {
   "cell_type": "code",
   "execution_count": 10,
   "metadata": {},
   "outputs": [],
   "source": [
    "# Deep Copy (Erzeugt neuen Speicherbereich mit .copy())\n",
    "df_train = df.copy()\n",
    "df_train.drop(df_test.index,axis=0,inplace=True)"
   ]
  },
  {
   "cell_type": "code",
   "execution_count": 11,
   "metadata": {},
   "outputs": [
    {
     "name": "stdout",
     "output_type": "stream",
     "text": [
      "Alle Daten: 20560\n",
      "Testdaten: 4317\n",
      "Trainingsdaten: 16243\n"
     ]
    }
   ],
   "source": [
    "print(f\"Alle Daten: {len(df.values)}\")\n",
    "print(f\"Testdaten: {len(df_test.values)}\")\n",
    "print(f\"Trainingsdaten: {len(df_train.values)}\")"
   ]
  },
  {
   "cell_type": "code",
   "execution_count": 12,
   "metadata": {},
   "outputs": [
    {
     "data": {
      "image/png": "[encoded data removed]",
      "text/plain": [
       "<Figure size 432x288 with 2 Axes>"
      ]
     },
     "metadata": {},
     "output_type": "display_data"
    },
    {
     "data": {
      "image/png": "[encoded data removed]",
      "text/plain": [
       "<Figure size 432x288 with 2 Axes>"
      ]
     },
     "metadata": {},
     "output_type": "display_data"
    }
   ],
   "source": [
    "# corrMatrix = df_test.corr()\n",
    "# sns.heatmap(corrMatrix, annot=True)\n",
    "# plt.show()\n",
    "\n",
    "# corrMatrix = df.corr()\n",
    "# sns.heatmap(corrMatrix, annot=True)\n",
    "# plt.show()"
   ]
  },
  {
   "cell_type": "code",
   "execution_count": null,
   "metadata": {},
   "outputs": [],
   "source": []
  }
 ],
 "metadata": {
  "kernelspec": {
   "display_name": "Python 3.10.4 64-bit (system)",
   "language": "python",
   "name": "python3"
  },
  "language_info": {
   "codemirror_mode": {
    "name": "ipython",
    "version": 3
   },
   "file_extension": ".py",
   "mimetype": "text/x-python",
   "name": "python",
   "nbconvert_exporter": "python",
   "pygments_lexer": "ipython3",
   "version": "3.10.4"
  },
  "orig_nbformat": 4,
  "vscode": {
   "interpreter": {
    "hash": "7478e4790d6ce65f606e7d4a37893a2596779b9ceb343da04e98e6c24e070e11"
   }
  }
 },
 "nbformat": 4,
 "nbformat_minor": 2
}
