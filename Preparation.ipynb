{
 "cells": [
  {
   "cell_type": "markdown",
   "metadata": {},
   "source": [
    "# ``Preparation``\n",
    "###### HumidityRatio wurde gemessen an der Temperatur und der relativen Luftfeuchtigkeit"
   ]
  },
  {
   "cell_type": "code",
   "execution_count": 22,
   "metadata": {},
   "outputs": [],
   "source": [
    "import pandas as pd\n",
    "import sklearn\n",
    "import matplotlib.pyplot as plt\n",
    "import numpy as np\n",
    "import seaborn as sns   \n",
    "import datetime\n",
    "df = pd.read_csv(\"Occupancy.csv\")"
   ]
  },
  {
   "cell_type": "code",
   "execution_count": 23,
   "metadata": {},
   "outputs": [
    {
     "name": "stdout",
     "output_type": "stream",
     "text": [
      "[0 1]\n"
     ]
    }
   ],
   "source": [
    "deutscheNamen = (\"Datum\",\"Temperatur\",\"Feuchtigkeit\",\"Licht\",\"CO2\",\"Temperatur/RelativeFeuchtigkeit\",\"Belegt Ja/Nein\")\n",
    "df.columns = deutscheNamen\n",
    "print(np.unique(df[\"Belegt Ja/Nein\"]))\n",
    "# df.head()\n",
    "\n",
    "# Nur Stunden und Minuten\n",
    "# df[\"Datum\"] = pd.to_datetime(df[\"Datum\"]).dt.time"
   ]
  },
  {
   "cell_type": "markdown",
   "metadata": {},
   "source": [
    "#### Korrelationsmatrix"
   ]
  },
  {
   "cell_type": "code",
   "execution_count": 24,
   "metadata": {},
   "outputs": [],
   "source": [
    "# corrMatrix = df.corr()\n",
    "# sns.heatmap(corrMatrix, annot=True)\n",
    "# plt.show()\n",
    "# print(f\"ROWS: {len(df)}\")"
   ]
  },
  {
   "cell_type": "markdown",
   "metadata": {},
   "source": [
    "#### Daten für das Plotten vorbereiten"
   ]
  },
  {
   "cell_type": "markdown",
   "metadata": {},
   "source": [
    "``Mache hier die Vorarbeit für die weiteren Schritte, setze bspw. auch das Zeitintervall``\n",
    "- Ich kann die Daten so aggregieren, dass sie übereinander gelegt werden im Plot?\n",
    "- Das heißt, dass ich alle Zeiten übereinander lappe, aller Tage"
   ]
  },
  {
   "cell_type": "code",
   "execution_count": 25,
   "metadata": {},
   "outputs": [
    {
     "name": "stderr",
     "output_type": "stream",
     "text": [
      "C:\\Users\\Jörg\\AppData\\Local\\Temp\\ipykernel_35552\\3403862666.py:22: SettingWithCopyWarning: \n",
      "A value is trying to be set on a copy of a slice from a DataFrame.\n",
      "Try using .loc[row_indexer,col_indexer] = value instead\n",
      "\n",
      "See the caveats in the documentation: https://pandas.pydata.org/pandas-docs/stable/user_guide/indexing.html#returning-a-view-versus-a-copy\n",
      "  df2[\"ZeitTag\"] = dateInts\n",
      "C:\\Users\\Jörg\\AppData\\Local\\Temp\\ipykernel_35552\\3403862666.py:23: SettingWithCopyWarning: \n",
      "A value is trying to be set on a copy of a slice from a DataFrame.\n",
      "Try using .loc[row_indexer,col_indexer] = value instead\n",
      "\n",
      "See the caveats in the documentation: https://pandas.pydata.org/pandas-docs/stable/user_guide/indexing.html#returning-a-view-versus-a-copy\n",
      "  df2[\"ZeitTag\"] = pd.to_datetime(df2[\"ZeitTag\"])\n",
      "C:\\Users\\Jörg\\AppData\\Local\\Temp\\ipykernel_35552\\3403862666.py:26: FutureWarning: In a future version of pandas all arguments of DataFrame.drop except for the argument 'labels' will be keyword-only.\n",
      "  df2 = df2.drop(\"Datum\", 1)\n"
     ]
    }
   ],
   "source": [
    "import seaborn as sns\n",
    "\n",
    "# Analyse vom 02-02 bis 02-18 (16 Tage)\n",
    "\n",
    "sns.set_theme(style=\"darkgrid\")\n",
    "\n",
    "# 8 Februar Sonntag\n",
    "# 15 Februar\n",
    "# Nur Zwei Sonntage enthalten\n",
    "df2 = df.loc[(df['Datum'] >= '2015-02-08 07:00:00') & (df['Datum'] <= '2015-02-08 18:00:00')]\n",
    "\n",
    "# Nur Stunden und Minuten\n",
    "# df2[\"Datum\"] = pd.to_datetime(df2[\"Datum\"]).dt.time\n",
    "# df2[\"Datum\"] =  df2['Datum'].values.dt.total_seconds().div(60).astype(int)\n",
    "dateInts = []\n",
    "for i in df2[\"Datum\"].values:\n",
    "    # Konvertiert datetime.time zu einem String\n",
    "    # print(type(i))\n",
    "    dateInts.append(i)\n",
    "    # dateInts.append(i.strftime(\"%Y-%m-%d %H:%M:%S\"))\n",
    "\n",
    "df2[\"ZeitTag\"] = dateInts\n",
    "df2[\"ZeitTag\"] = pd.to_datetime(df2[\"ZeitTag\"])\n",
    "\n",
    "\n",
    "df2 = df2.drop(\"Datum\", 1)\n",
    "# df2"
   ]
  },
  {
   "cell_type": "markdown",
   "metadata": {},
   "source": [
    "## Extrahieren der Testdaten\n",
    "- Sonntage: 02-08 und 02-015\n",
    "- Dienstage: 02-03 und 02-10"
   ]
  },
  {
   "cell_type": "markdown",
   "metadata": {},
   "source": [
    "### Sonntage"
   ]
  },
  {
   "cell_type": "code",
   "execution_count": 26,
   "metadata": {},
   "outputs": [],
   "source": [
    "daysSon = 8\n",
    "for val in range(0,2):\n",
    "    if len(str(daysSon)) <= 1:\n",
    "        df_son = df.loc[(df['Datum'] > f'2015-02-0{str(daysSon)} 00:00:00') & (df['Datum'] <= f'2015-02-0{str(daysSon)} 23:59:00')]\n",
    "    else: \n",
    "        df_temp=(df.loc[(df['Datum'] > f'2015-02-{str(daysSon)} 00:00:00') & (df['Datum'] <= f'2015-02-{str(daysSon)} 23:59:00')])\n",
    "        df_son = pd.concat([df_son, df_temp])\n",
    "    daysSon += 7\n",
    "# df_son"
   ]
  },
  {
   "cell_type": "code",
   "execution_count": 27,
   "metadata": {},
   "outputs": [],
   "source": [
    "# corrMatrix = df_son.corr()\n",
    "# sns.heatmap(corrMatrix, annot=True)\n",
    "# plt.show()"
   ]
  },
  {
   "cell_type": "markdown",
   "metadata": {},
   "source": [
    "### Samstage"
   ]
  },
  {
   "cell_type": "code",
   "execution_count": 28,
   "metadata": {},
   "outputs": [],
   "source": [
    "daysDi = 7\n",
    "for val in range(0,2):\n",
    "    if len(str(daysDi)) <= 1:\n",
    "        df_di = df.loc[(df['Datum'] > f'2015-02-0{str(daysDi)} 00:00:00') & (df['Datum'] <= f'2015-02-0{str(daysDi)} 23:59:00')]\n",
    "    else: \n",
    "        df_temp=(df.loc[(df['Datum'] > f'2015-02-{str(daysDi)} 00:00:00') & (df['Datum'] <= f'2015-02-{str(daysDi)} 23:59:00')])\n",
    "        df_di = pd.concat([df_di, df_temp])\n",
    "    daysDi += 10\n",
    "# df_di"
   ]
  },
  {
   "cell_type": "markdown",
   "metadata": {},
   "source": [
    "# Zusammenbringen der Testdaten"
   ]
  },
  {
   "cell_type": "code",
   "execution_count": 29,
   "metadata": {},
   "outputs": [
    {
     "data": {
      "text/html": [
       "<div>\n",
       "<style scoped>\n",
       "    .dataframe tbody tr th:only-of-type {\n",
       "        vertical-align: middle;\n",
       "    }\n",
       "\n",
       "    .dataframe tbody tr th {\n",
       "        vertical-align: top;\n",
       "    }\n",
       "\n",
       "    .dataframe thead th {\n",
       "        text-align: right;\n",
       "    }\n",
       "</style>\n",
       "<table border=\"1\" class=\"dataframe\">\n",
       "  <thead>\n",
       "    <tr style=\"text-align: right;\">\n",
       "      <th></th>\n",
       "      <th>Datum</th>\n",
       "      <th>Temperatur</th>\n",
       "      <th>Feuchtigkeit</th>\n",
       "      <th>Licht</th>\n",
       "      <th>CO2</th>\n",
       "      <th>Temperatur/RelativeFeuchtigkeit</th>\n",
       "      <th>Belegt Ja/Nein</th>\n",
       "    </tr>\n",
       "  </thead>\n",
       "  <tbody>\n",
       "    <tr>\n",
       "      <th>5915</th>\n",
       "      <td>2015-02-07 00:01:00</td>\n",
       "      <td>19.9725</td>\n",
       "      <td>18.745</td>\n",
       "      <td>0.0</td>\n",
       "      <td>433.666667</td>\n",
       "      <td>0.002698</td>\n",
       "      <td>0</td>\n",
       "    </tr>\n",
       "    <tr>\n",
       "      <th>5916</th>\n",
       "      <td>2015-02-07 00:02:00</td>\n",
       "      <td>20.0000</td>\n",
       "      <td>18.790</td>\n",
       "      <td>0.0</td>\n",
       "      <td>434.500000</td>\n",
       "      <td>0.002709</td>\n",
       "      <td>0</td>\n",
       "    </tr>\n",
       "    <tr>\n",
       "      <th>5917</th>\n",
       "      <td>2015-02-07 00:03:00</td>\n",
       "      <td>20.0000</td>\n",
       "      <td>18.700</td>\n",
       "      <td>0.0</td>\n",
       "      <td>434.000000</td>\n",
       "      <td>0.002696</td>\n",
       "      <td>0</td>\n",
       "    </tr>\n",
       "    <tr>\n",
       "      <th>5918</th>\n",
       "      <td>2015-02-07 00:04:00</td>\n",
       "      <td>20.0000</td>\n",
       "      <td>18.745</td>\n",
       "      <td>0.0</td>\n",
       "      <td>438.500000</td>\n",
       "      <td>0.002703</td>\n",
       "      <td>0</td>\n",
       "    </tr>\n",
       "    <tr>\n",
       "      <th>5919</th>\n",
       "      <td>2015-02-07 00:04:59</td>\n",
       "      <td>20.0000</td>\n",
       "      <td>18.745</td>\n",
       "      <td>0.0</td>\n",
       "      <td>443.000000</td>\n",
       "      <td>0.002703</td>\n",
       "      <td>0</td>\n",
       "    </tr>\n",
       "    <tr>\n",
       "      <th>...</th>\n",
       "      <td>...</td>\n",
       "      <td>...</td>\n",
       "      <td>...</td>\n",
       "      <td>...</td>\n",
       "      <td>...</td>\n",
       "      <td>...</td>\n",
       "      <td>...</td>\n",
       "    </tr>\n",
       "    <tr>\n",
       "      <th>19995</th>\n",
       "      <td>2015-02-17 23:55:00</td>\n",
       "      <td>20.8900</td>\n",
       "      <td>29.600</td>\n",
       "      <td>0.0</td>\n",
       "      <td>1201.000000</td>\n",
       "      <td>0.004522</td>\n",
       "      <td>0</td>\n",
       "    </tr>\n",
       "    <tr>\n",
       "      <th>19996</th>\n",
       "      <td>2015-02-17 23:55:59</td>\n",
       "      <td>20.8900</td>\n",
       "      <td>29.550</td>\n",
       "      <td>0.0</td>\n",
       "      <td>1196.000000</td>\n",
       "      <td>0.004514</td>\n",
       "      <td>0</td>\n",
       "    </tr>\n",
       "    <tr>\n",
       "      <th>19997</th>\n",
       "      <td>2015-02-17 23:57:00</td>\n",
       "      <td>20.8900</td>\n",
       "      <td>29.525</td>\n",
       "      <td>0.0</td>\n",
       "      <td>1194.000000</td>\n",
       "      <td>0.004511</td>\n",
       "      <td>0</td>\n",
       "    </tr>\n",
       "    <tr>\n",
       "      <th>19998</th>\n",
       "      <td>2015-02-17 23:57:59</td>\n",
       "      <td>20.8900</td>\n",
       "      <td>29.500</td>\n",
       "      <td>0.0</td>\n",
       "      <td>1203.000000</td>\n",
       "      <td>0.004507</td>\n",
       "      <td>0</td>\n",
       "    </tr>\n",
       "    <tr>\n",
       "      <th>19999</th>\n",
       "      <td>2015-02-17 23:58:59</td>\n",
       "      <td>20.8900</td>\n",
       "      <td>29.500</td>\n",
       "      <td>0.0</td>\n",
       "      <td>1202.500000</td>\n",
       "      <td>0.004507</td>\n",
       "      <td>0</td>\n",
       "    </tr>\n",
       "  </tbody>\n",
       "</table>\n",
       "<p>5756 rows × 7 columns</p>\n",
       "</div>"
      ],
      "text/plain": [
       "                     Datum  Temperatur  Feuchtigkeit  Licht          CO2  \\\n",
       "5915   2015-02-07 00:01:00     19.9725        18.745    0.0   433.666667   \n",
       "5916   2015-02-07 00:02:00     20.0000        18.790    0.0   434.500000   \n",
       "5917   2015-02-07 00:03:00     20.0000        18.700    0.0   434.000000   \n",
       "5918   2015-02-07 00:04:00     20.0000        18.745    0.0   438.500000   \n",
       "5919   2015-02-07 00:04:59     20.0000        18.745    0.0   443.000000   \n",
       "...                    ...         ...           ...    ...          ...   \n",
       "19995  2015-02-17 23:55:00     20.8900        29.600    0.0  1201.000000   \n",
       "19996  2015-02-17 23:55:59     20.8900        29.550    0.0  1196.000000   \n",
       "19997  2015-02-17 23:57:00     20.8900        29.525    0.0  1194.000000   \n",
       "19998  2015-02-17 23:57:59     20.8900        29.500    0.0  1203.000000   \n",
       "19999  2015-02-17 23:58:59     20.8900        29.500    0.0  1202.500000   \n",
       "\n",
       "       Temperatur/RelativeFeuchtigkeit  Belegt Ja/Nein  \n",
       "5915                          0.002698               0  \n",
       "5916                          0.002709               0  \n",
       "5917                          0.002696               0  \n",
       "5918                          0.002703               0  \n",
       "5919                          0.002703               0  \n",
       "...                                ...             ...  \n",
       "19995                         0.004522               0  \n",
       "19996                         0.004514               0  \n",
       "19997                         0.004511               0  \n",
       "19998                         0.004507               0  \n",
       "19999                         0.004507               0  \n",
       "\n",
       "[5756 rows x 7 columns]"
      ]
     },
     "execution_count": 29,
     "metadata": {},
     "output_type": "execute_result"
    }
   ],
   "source": [
    "# df_son und df_di\n",
    "df_test = pd.concat([df_son, df_di])\n",
    "df_test = df_test.sort_index(ascending=True)\n",
    "df_test"
   ]
  },
  {
   "cell_type": "markdown",
   "metadata": {},
   "source": [
    "# Erzeugen der Trainingsdaten"
   ]
  },
  {
   "cell_type": "code",
   "execution_count": 30,
   "metadata": {},
   "outputs": [],
   "source": [
    "# Deep Copy (Erzeugt neuen Speicherbereich mit .copy())\n",
    "df_train = df.copy()\n",
    "df_train.drop(df_test.index,axis=0,inplace=True)"
   ]
  },
  {
   "cell_type": "code",
   "execution_count": 31,
   "metadata": {},
   "outputs": [
    {
     "name": "stdout",
     "output_type": "stream",
     "text": [
      "Alle Daten: 20560\n",
      "Testdaten: 5756\n",
      "Trainingsdaten: 14804\n"
     ]
    }
   ],
   "source": [
    "print(f\"Alle Daten: {len(df.values)}\")\n",
    "print(f\"Testdaten: {len(df_test.values)}\")\n",
    "print(f\"Trainingsdaten: {len(df_train.values)}\")"
   ]
  },
  {
   "cell_type": "code",
   "execution_count": 32,
   "metadata": {},
   "outputs": [],
   "source": [
    "# corrMatrix = df_test.corr()\n",
    "# sns.heatmap(corrMatrix, annot=True)\n",
    "# plt.show()\n",
    "\n",
    "# corrMatrix = df.corr()\n",
    "# sns.heatmap(corrMatrix, annot=True)\n",
    "# plt.show()"
   ]
  },
  {
   "cell_type": "code",
   "execution_count": null,
   "metadata": {},
   "outputs": [],
   "source": []
  }
 ],
 "metadata": {
  "kernelspec": {
   "display_name": "Python 3.10.4 64-bit (system)",
   "language": "python",
   "name": "python3"
  },
  "language_info": {
   "codemirror_mode": {
    "name": "ipython",
    "version": 3
   },
   "file_extension": ".py",
   "mimetype": "text/x-python",
   "name": "python",
   "nbconvert_exporter": "python",
   "pygments_lexer": "ipython3",
   "version": "3.10.4"
  },
  "orig_nbformat": 4,
  "vscode": {
   "interpreter": {
    "hash": "7478e4790d6ce65f606e7d4a37893a2596779b9ceb343da04e98e6c24e070e11"
   }
  }
 },
 "nbformat": 4,
 "nbformat_minor": 2
}
